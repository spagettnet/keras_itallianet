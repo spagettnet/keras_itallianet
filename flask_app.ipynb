{
 "cells": [
  {
   "cell_type": "code",
   "execution_count": 1,
   "metadata": {},
   "outputs": [
    {
     "name": "stderr",
     "output_type": "stream",
     "text": [
      "Using TensorFlow backend.\n"
     ]
    }
   ],
   "source": [
    "from flask import Flask, render_template, request\n",
    "import cv2\n",
    "import matplotlib.pyplot as plt\n",
    "import numpy as np\n",
    "import keras.models\n",
    "import re\n",
    "import sys\n",
    "import os\n",
    "sys.path.append(os.path.abspath('./model'))\n",
    "import urllib\n"
   ]
  },
  {
   "cell_type": "code",
   "execution_count": 2,
   "metadata": {},
   "outputs": [],
   "source": [
    "#init flask app\n",
    "\n",
    "app = Flask(__name__)\n",
    "model = keras.models.load_model('model/italianet_keras_v1.h5')\n",
    "\n",
    "@app.route('/')\n",
    "def index():\n",
    "    return render_template('index.html')\n",
    "\n"
   ]
  },
  {
   "cell_type": "code",
   "execution_count": 3,
   "metadata": {
    "collapsed": true
   },
   "outputs": [],
   "source": [
    "\n",
    "def process_img(link):\n",
    "    urllib.request.urlretrieve(link, \"input.jpg\")\n",
    "    return \"input.jpg\""
   ]
  },
  {
   "cell_type": "code",
   "execution_count": null,
   "metadata": {},
   "outputs": [],
   "source": [
    "@app.route('/predict', methods=['GET','POST'])\n",
    "def imgpath_to_plot():\n",
    "    #if you dont have this file yet\n",
    "    #test_data = process_test_data()\n",
    "    link = request.get_data().decode(\"utf-8\")\n",
    "    print(link)\n",
    "    urllib.request.urlretrieve(link, \"input.jpg\")\n",
    "    img = cv2.imread(\"input.jpg\")\n",
    "\n",
    "    orig = cv2.cvtColor(img, cv2.COLOR_BGR2RGB)\n",
    "\n",
    "    im = cv2.resize(orig,(128,128))#resize it to pass it into the neural network\n",
    "    im = np.reshape(im,(1,128,128,3))/255 #normalize (divide by 255)\n",
    "    \n",
    "    model_out = model.predict([im])[0]\n",
    "        \n",
    "    pizzaness = round(model_out[1]*100, 2)\n",
    "\n",
    "    if pizzaness >= 50:\n",
    "        str_label = '{}% Pizza'.format(pizzaness)\n",
    "    else:\n",
    "        str_label = '{}% Calzone'.format(100-pizzaness)\n",
    "\n",
    "    plt.imshow(orig,interpolation='nearest')\n",
    "    plt.title(str_label, x=0.5, y=0.85, fontsize=24, bbox = dict(facecolor='white', alpha=0.5))\n",
    "    plt.axis('off')\n",
    "    plt.savefig('out.jpg')\n",
    "    return str_label"
   ]
  },
  {
   "cell_type": "code",
   "execution_count": null,
   "metadata": {},
   "outputs": [
    {
     "name": "stderr",
     "output_type": "stream",
     "text": [
      " * Running on http://0.0.0.0:5000/ (Press CTRL+C to quit)\n"
     ]
    },
    {
     "name": "stdout",
     "output_type": "stream",
     "text": [
      "https://www.cicis.com/media/1243/pizza_adven_zestypepperoni.png\n"
     ]
    },
    {
     "name": "stderr",
     "output_type": "stream",
     "text": [
      "127.0.0.1 - - [10/Dec/2017 19:11:02] \"POST /predict HTTP/1.1\" 200 -\n"
     ]
    },
    {
     "name": "stdout",
     "output_type": "stream",
     "text": [
      "https://images-gmi-pmc.edge-generalmills.com/9df0ff18-e881-4221-ac91-710b37668b03.jpg\n"
     ]
    },
    {
     "name": "stderr",
     "output_type": "stream",
     "text": [
      "127.0.0.1 - - [10/Dec/2017 19:11:24] \"POST /predict HTTP/1.1\" 200 -\n"
     ]
    },
    {
     "name": "stdout",
     "output_type": "stream",
     "text": [
      "https://atmedia.imgix.net/f95b20c40c8e2cedc27ee73ab9c567d8babb33c4?w=1500&fit=max\n"
     ]
    },
    {
     "name": "stderr",
     "output_type": "stream",
     "text": [
      "127.0.0.1 - - [10/Dec/2017 19:11:55] \"POST /predict HTTP/1.1\" 200 -\n"
     ]
    }
   ],
   "source": [
    "if __name__ == '__main__':\n",
    "    port = int(os.environ.get('PORT',5000))\n",
    "    app.run(host='0.0.0.0',port=port)"
   ]
  },
  {
   "cell_type": "code",
   "execution_count": null,
   "metadata": {},
   "outputs": [],
   "source": [
    "imgpath_to_plot('https://www.cicis.com/media/1243/pizza_adven_zestypepperoni.png')"
   ]
  },
  {
   "cell_type": "code",
   "execution_count": null,
   "metadata": {
    "collapsed": true
   },
   "outputs": [],
   "source": []
  }
 ],
 "metadata": {
  "kernelspec": {
   "display_name": "Python 3",
   "language": "python",
   "name": "python3"
  },
  "language_info": {
   "codemirror_mode": {
    "name": "ipython",
    "version": 3
   },
   "file_extension": ".py",
   "mimetype": "text/x-python",
   "name": "python",
   "nbconvert_exporter": "python",
   "pygments_lexer": "ipython3",
   "version": "3.6.1"
  }
 },
 "nbformat": 4,
 "nbformat_minor": 2
}
