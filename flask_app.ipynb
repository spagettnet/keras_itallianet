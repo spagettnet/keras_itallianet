{
 "cells": [
  {
   "cell_type": "code",
   "execution_count": 1,
   "metadata": {},
   "outputs": [
    {
     "name": "stderr",
     "output_type": "stream",
     "text": [
      "Using TensorFlow backend.\n"
     ]
    }
   ],
   "source": [
    "from flask import Flask, render_template, request\n",
    "import cv2\n",
    "import matplotlib.pyplot as plt\n",
    "import numpy as np\n",
    "import keras.models\n",
    "import re\n",
    "import sys\n",
    "import os\n",
    "sys.path.append(os.path.abspath('./model'))\n",
    "import urllib"
   ]
  },
  {
   "cell_type": "code",
   "execution_count": 2,
   "metadata": {},
   "outputs": [],
   "source": [
    "#init flask app\n",
    "\n",
    "app = Flask(__name__)\n",
    "model = keras.models.load_model('model/italianet_keras_v1.h5')\n",
    "\n",
    "@app.route('/')\n",
    "def index():\n",
    "    return render_template('index.html')\n",
    "\n"
   ]
  },
  {
   "cell_type": "code",
   "execution_count": 3,
   "metadata": {
    "collapsed": true
   },
   "outputs": [],
   "source": [
    "\n",
    "def process_img(link):\n",
    "    urllib.request.urlretrieve(link, \"input.jpg\")\n",
    "    return \"input.jpg\""
   ]
  },
  {
   "cell_type": "code",
   "execution_count": null,
   "metadata": {},
   "outputs": [],
   "source": [
    "@app.route('/predict', methods=['GET','POST'])\n",
    "def imgpath_to_plot():\n",
    "    #if you dont have this file yet\n",
    "    #test_data = process_test_data()\n",
    "    link = request.get_data().decode(\"utf-8\")\n",
    "\n",
    "    urllib.request.urlretrieve(link, \"input.jpg\")\n",
    "    img = cv2.imread(\"input.jpg\")\n",
    "\n",
    "    orig = cv2.cvtColor(img, cv2.COLOR_BGR2RGB)\n",
    "\n",
    "    im = cv2.resize(orig,(128,128))#resize it to pass it into the neural network\n",
    "    im = np.reshape(im,(1,128,128,3))/255 #normalize (divide by 255)\n",
    "    \n",
    "    model_out = model.predict([im])[0]\n",
    "        \n",
    "    pizzaness = round(model_out[1]*100, 2)\n",
    "\n",
    "    if pizzaness >= 50:\n",
    "        str_label = '{}% Pizza'.format(pizzaness)\n",
    "    else:\n",
    "        str_label = '{}% Calzone'.format(100-pizzaness)\n",
    "\n",
    "    plt.imshow(orig,interpolation='nearest')\n",
    "    plt.title(str_label, x=0.5, y=0.85, fontsize=24, bbox = dict(facecolor='white', alpha=0.5))\n",
    "    plt.axis('off')\n",
    "    plt.savefig('out.jpg')\n",
    "    return str_label"
   ]
  },
  {
   "cell_type": "code",
   "execution_count": null,
   "metadata": {},
   "outputs": [
    {
     "name": "stderr",
     "output_type": "stream",
     "text": [
      " * Running on http://0.0.0.0:5000/ (Press CTRL+C to quit)\n",
      "127.0.0.1 - - [11/Dec/2017 09:53:45] \"GET / HTTP/1.1\" 200 -\n",
      "127.0.0.1 - - [11/Dec/2017 09:53:49] \"GET / HTTP/1.1\" 200 -\n",
      "127.0.0.1 - - [11/Dec/2017 09:53:49] \"GET /static/style.css HTTP/1.1\" 200 -\n",
      "127.0.0.1 - - [11/Dec/2017 09:53:49] \"GET /favicon.ico HTTP/1.1\" 404 -\n"
     ]
    },
    {
     "name": "stdout",
     "output_type": "stream",
     "text": [
      "https://www.cicis.com/media/1176/pizza_trad_pepperonibeef.png\n"
     ]
    },
    {
     "name": "stderr",
     "output_type": "stream",
     "text": [
      "127.0.0.1 - - [11/Dec/2017 09:53:52] \"POST /predict HTTP/1.1\" 200 -\n"
     ]
    },
    {
     "name": "stdout",
     "output_type": "stream",
     "text": [
      "https://i.imgur.com/oO5itc8.jpg\n"
     ]
    },
    {
     "name": "stderr",
     "output_type": "stream",
     "text": [
      "127.0.0.1 - - [11/Dec/2017 09:54:52] \"POST /predict HTTP/1.1\" 200 -\n"
     ]
    },
    {
     "name": "stdout",
     "output_type": "stream",
     "text": [
      "https://image.ibb.co/jFMWeb/3586985375930069112.jpg\n"
     ]
    },
    {
     "name": "stderr",
     "output_type": "stream",
     "text": [
      "127.0.0.1 - - [11/Dec/2017 09:57:01] \"POST /predict HTTP/1.1\" 200 -\n"
     ]
    },
    {
     "name": "stdout",
     "output_type": "stream",
     "text": [
      "https://image.ibb.co/fkXhkG/6014221748682658949.jpg\n"
     ]
    },
    {
     "name": "stderr",
     "output_type": "stream",
     "text": [
      "127.0.0.1 - - [11/Dec/2017 09:57:22] \"POST /predict HTTP/1.1\" 200 -\n",
      "127.0.0.1 - - [11/Dec/2017 09:58:35] \"GET / HTTP/1.1\" 200 -\n"
     ]
    },
    {
     "name": "stdout",
     "output_type": "stream",
     "text": [
      "http://www.recipe4living.com/assets/itemimages/400/400/3/default_1e9d861a3ec120784d444cb7df66d025_dreamstime_s_62820052.jpg\n"
     ]
    },
    {
     "name": "stderr",
     "output_type": "stream",
     "text": [
      "127.0.0.1 - - [11/Dec/2017 09:59:30] \"POST /predict HTTP/1.1\" 200 -\n"
     ]
    },
    {
     "name": "stdout",
     "output_type": "stream",
     "text": [
      "https://www.silviocicchi.com/pizzachef/wp-content/uploads/2015/02/c-evid-600x372.jpg\n"
     ]
    },
    {
     "name": "stderr",
     "output_type": "stream",
     "text": [
      "127.0.0.1 - - [11/Dec/2017 09:59:49] \"POST /predict HTTP/1.1\" 200 -\n"
     ]
    },
    {
     "name": "stdout",
     "output_type": "stream",
     "text": [
      "https://www.calzone.ca/Pizzaphoto.jpg\n"
     ]
    },
    {
     "name": "stderr",
     "output_type": "stream",
     "text": [
      "127.0.0.1 - - [11/Dec/2017 10:00:27] \"POST /predict HTTP/1.1\" 200 -\n"
     ]
    },
    {
     "name": "stdout",
     "output_type": "stream",
     "text": [
      "https://upload.wikimedia.org/wikipedia/en/thumb/d/d2/Pizza_Hut_logo.svg/1088px-Pizza_Hut_logo.svg.png\n"
     ]
    },
    {
     "name": "stderr",
     "output_type": "stream",
     "text": [
      "127.0.0.1 - - [11/Dec/2017 10:01:16] \"POST /predict HTTP/1.1\" 200 -\n"
     ]
    },
    {
     "name": "stdout",
     "output_type": "stream",
     "text": [
      "https://upload.wikimedia.org/wikipedia/commons/thumb/a/a0/Circle_-_black_simple.svg/2000px-Circle_-_black_simple.svg.png\n"
     ]
    },
    {
     "name": "stderr",
     "output_type": "stream",
     "text": [
      "127.0.0.1 - - [11/Dec/2017 10:01:42] \"POST /predict HTTP/1.1\" 200 -\n",
      "[2017-12-11 10:02:22,948] ERROR in app: Exception on /predict [POST]\n",
      "Traceback (most recent call last):\n",
      "  File \"/Users/default/anaconda/lib/python3.6/site-packages/flask/app.py\", line 1982, in wsgi_app\n",
      "    response = self.full_dispatch_request()\n",
      "  File \"/Users/default/anaconda/lib/python3.6/site-packages/flask/app.py\", line 1614, in full_dispatch_request\n",
      "    rv = self.handle_user_exception(e)\n",
      "  File \"/Users/default/anaconda/lib/python3.6/site-packages/flask/app.py\", line 1517, in handle_user_exception\n",
      "    reraise(exc_type, exc_value, tb)\n",
      "  File \"/Users/default/anaconda/lib/python3.6/site-packages/flask/_compat.py\", line 33, in reraise\n",
      "    raise value\n",
      "  File \"/Users/default/anaconda/lib/python3.6/site-packages/flask/app.py\", line 1612, in full_dispatch_request\n",
      "    rv = self.dispatch_request()\n",
      "  File \"/Users/default/anaconda/lib/python3.6/site-packages/flask/app.py\", line 1598, in dispatch_request\n",
      "    return self.view_functions[rule.endpoint](**req.view_args)\n",
      "  File \"<ipython-input-4-16d41f42fa90>\", line 7, in imgpath_to_plot\n",
      "    urllib.request.urlretrieve(link, \"input.jpg\")\n",
      "  File \"/Users/default/anaconda/lib/python3.6/urllib/request.py\", line 248, in urlretrieve\n",
      "    with contextlib.closing(urlopen(url, data)) as fp:\n",
      "  File \"/Users/default/anaconda/lib/python3.6/urllib/request.py\", line 223, in urlopen\n",
      "    return opener.open(url, data, timeout)\n",
      "  File \"/Users/default/anaconda/lib/python3.6/urllib/request.py\", line 532, in open\n",
      "    response = meth(req, response)\n",
      "  File \"/Users/default/anaconda/lib/python3.6/urllib/request.py\", line 642, in http_response\n",
      "    'http', request, response, code, msg, hdrs)\n",
      "  File \"/Users/default/anaconda/lib/python3.6/urllib/request.py\", line 570, in error\n",
      "    return self._call_chain(*args)\n",
      "  File \"/Users/default/anaconda/lib/python3.6/urllib/request.py\", line 504, in _call_chain\n",
      "    result = func(*args)\n",
      "  File \"/Users/default/anaconda/lib/python3.6/urllib/request.py\", line 650, in http_error_default\n",
      "    raise HTTPError(req.full_url, code, msg, hdrs, fp)\n",
      "urllib.error.HTTPError: HTTP Error 403: Forbidden\n",
      "127.0.0.1 - - [11/Dec/2017 10:02:22] \"POST /predict HTTP/1.1\" 500 -\n"
     ]
    },
    {
     "name": "stdout",
     "output_type": "stream",
     "text": [
      "http://vffranchiseconsulting.com/wp-content/uploads/2016/03/grimaldis-menu.jpg\n"
     ]
    },
    {
     "name": "stderr",
     "output_type": "stream",
     "text": [
      "[2017-12-11 10:02:28,660] ERROR in app: Exception on /predict [POST]\n",
      "Traceback (most recent call last):\n",
      "  File \"/Users/default/anaconda/lib/python3.6/site-packages/flask/app.py\", line 1982, in wsgi_app\n",
      "    response = self.full_dispatch_request()\n",
      "  File \"/Users/default/anaconda/lib/python3.6/site-packages/flask/app.py\", line 1614, in full_dispatch_request\n",
      "    rv = self.handle_user_exception(e)\n",
      "  File \"/Users/default/anaconda/lib/python3.6/site-packages/flask/app.py\", line 1517, in handle_user_exception\n",
      "    reraise(exc_type, exc_value, tb)\n",
      "  File \"/Users/default/anaconda/lib/python3.6/site-packages/flask/_compat.py\", line 33, in reraise\n",
      "    raise value\n",
      "  File \"/Users/default/anaconda/lib/python3.6/site-packages/flask/app.py\", line 1612, in full_dispatch_request\n",
      "    rv = self.dispatch_request()\n",
      "  File \"/Users/default/anaconda/lib/python3.6/site-packages/flask/app.py\", line 1598, in dispatch_request\n",
      "    return self.view_functions[rule.endpoint](**req.view_args)\n",
      "  File \"<ipython-input-4-16d41f42fa90>\", line 7, in imgpath_to_plot\n",
      "    urllib.request.urlretrieve(link, \"input.jpg\")\n",
      "  File \"/Users/default/anaconda/lib/python3.6/urllib/request.py\", line 248, in urlretrieve\n",
      "    with contextlib.closing(urlopen(url, data)) as fp:\n",
      "  File \"/Users/default/anaconda/lib/python3.6/urllib/request.py\", line 223, in urlopen\n",
      "    return opener.open(url, data, timeout)\n",
      "  File \"/Users/default/anaconda/lib/python3.6/urllib/request.py\", line 532, in open\n",
      "    response = meth(req, response)\n",
      "  File \"/Users/default/anaconda/lib/python3.6/urllib/request.py\", line 642, in http_response\n",
      "    'http', request, response, code, msg, hdrs)\n",
      "  File \"/Users/default/anaconda/lib/python3.6/urllib/request.py\", line 570, in error\n",
      "    return self._call_chain(*args)\n",
      "  File \"/Users/default/anaconda/lib/python3.6/urllib/request.py\", line 504, in _call_chain\n",
      "    result = func(*args)\n",
      "  File \"/Users/default/anaconda/lib/python3.6/urllib/request.py\", line 650, in http_error_default\n",
      "    raise HTTPError(req.full_url, code, msg, hdrs, fp)\n",
      "urllib.error.HTTPError: HTTP Error 403: Forbidden\n",
      "127.0.0.1 - - [11/Dec/2017 10:02:28] \"POST /predict HTTP/1.1\" 500 -\n",
      "[2017-12-11 10:02:28,779] ERROR in app: Exception on /predict [POST]\n",
      "Traceback (most recent call last):\n",
      "  File \"/Users/default/anaconda/lib/python3.6/site-packages/flask/app.py\", line 1982, in wsgi_app\n",
      "    response = self.full_dispatch_request()\n",
      "  File \"/Users/default/anaconda/lib/python3.6/site-packages/flask/app.py\", line 1614, in full_dispatch_request\n",
      "    rv = self.handle_user_exception(e)\n",
      "  File \"/Users/default/anaconda/lib/python3.6/site-packages/flask/app.py\", line 1517, in handle_user_exception\n",
      "    reraise(exc_type, exc_value, tb)\n",
      "  File \"/Users/default/anaconda/lib/python3.6/site-packages/flask/_compat.py\", line 33, in reraise\n",
      "    raise value\n",
      "  File \"/Users/default/anaconda/lib/python3.6/site-packages/flask/app.py\", line 1612, in full_dispatch_request\n",
      "    rv = self.dispatch_request()\n",
      "  File \"/Users/default/anaconda/lib/python3.6/site-packages/flask/app.py\", line 1598, in dispatch_request\n",
      "    return self.view_functions[rule.endpoint](**req.view_args)\n",
      "  File \"<ipython-input-4-16d41f42fa90>\", line 7, in imgpath_to_plot\n",
      "    urllib.request.urlretrieve(link, \"input.jpg\")\n",
      "  File \"/Users/default/anaconda/lib/python3.6/urllib/request.py\", line 248, in urlretrieve\n",
      "    with contextlib.closing(urlopen(url, data)) as fp:\n",
      "  File \"/Users/default/anaconda/lib/python3.6/urllib/request.py\", line 223, in urlopen\n",
      "    return opener.open(url, data, timeout)\n",
      "  File \"/Users/default/anaconda/lib/python3.6/urllib/request.py\", line 532, in open\n",
      "    response = meth(req, response)\n",
      "  File \"/Users/default/anaconda/lib/python3.6/urllib/request.py\", line 642, in http_response\n",
      "    'http', request, response, code, msg, hdrs)\n",
      "  File \"/Users/default/anaconda/lib/python3.6/urllib/request.py\", line 570, in error\n",
      "    return self._call_chain(*args)\n",
      "  File \"/Users/default/anaconda/lib/python3.6/urllib/request.py\", line 504, in _call_chain\n",
      "    result = func(*args)\n",
      "  File \"/Users/default/anaconda/lib/python3.6/urllib/request.py\", line 650, in http_error_default\n",
      "    raise HTTPError(req.full_url, code, msg, hdrs, fp)\n",
      "urllib.error.HTTPError: HTTP Error 403: Forbidden\n",
      "127.0.0.1 - - [11/Dec/2017 10:02:28] \"POST /predict HTTP/1.1\" 500 -\n"
     ]
    },
    {
     "name": "stdout",
     "output_type": "stream",
     "text": [
      "http://vffranchiseconsulting.com/wp-content/uploads/2016/03/grimaldis-menu.jpg\n",
      "http://vffranchiseconsulting.com/wp-content/uploads/2016/03/grimaldis-menu.jpg\n"
     ]
    },
    {
     "name": "stderr",
     "output_type": "stream",
     "text": [
      "[2017-12-11 10:02:28,966] ERROR in app: Exception on /predict [POST]\n",
      "Traceback (most recent call last):\n",
      "  File \"/Users/default/anaconda/lib/python3.6/site-packages/flask/app.py\", line 1982, in wsgi_app\n",
      "    response = self.full_dispatch_request()\n",
      "  File \"/Users/default/anaconda/lib/python3.6/site-packages/flask/app.py\", line 1614, in full_dispatch_request\n",
      "    rv = self.handle_user_exception(e)\n",
      "  File \"/Users/default/anaconda/lib/python3.6/site-packages/flask/app.py\", line 1517, in handle_user_exception\n",
      "    reraise(exc_type, exc_value, tb)\n",
      "  File \"/Users/default/anaconda/lib/python3.6/site-packages/flask/_compat.py\", line 33, in reraise\n",
      "    raise value\n",
      "  File \"/Users/default/anaconda/lib/python3.6/site-packages/flask/app.py\", line 1612, in full_dispatch_request\n",
      "    rv = self.dispatch_request()\n",
      "  File \"/Users/default/anaconda/lib/python3.6/site-packages/flask/app.py\", line 1598, in dispatch_request\n",
      "    return self.view_functions[rule.endpoint](**req.view_args)\n",
      "  File \"<ipython-input-4-16d41f42fa90>\", line 7, in imgpath_to_plot\n",
      "    urllib.request.urlretrieve(link, \"input.jpg\")\n",
      "  File \"/Users/default/anaconda/lib/python3.6/urllib/request.py\", line 248, in urlretrieve\n",
      "    with contextlib.closing(urlopen(url, data)) as fp:\n",
      "  File \"/Users/default/anaconda/lib/python3.6/urllib/request.py\", line 223, in urlopen\n",
      "    return opener.open(url, data, timeout)\n",
      "  File \"/Users/default/anaconda/lib/python3.6/urllib/request.py\", line 532, in open\n",
      "    response = meth(req, response)\n",
      "  File \"/Users/default/anaconda/lib/python3.6/urllib/request.py\", line 642, in http_response\n",
      "    'http', request, response, code, msg, hdrs)\n",
      "  File \"/Users/default/anaconda/lib/python3.6/urllib/request.py\", line 570, in error\n",
      "    return self._call_chain(*args)\n",
      "  File \"/Users/default/anaconda/lib/python3.6/urllib/request.py\", line 504, in _call_chain\n",
      "    result = func(*args)\n",
      "  File \"/Users/default/anaconda/lib/python3.6/urllib/request.py\", line 650, in http_error_default\n",
      "    raise HTTPError(req.full_url, code, msg, hdrs, fp)\n",
      "urllib.error.HTTPError: HTTP Error 403: Forbidden\n",
      "127.0.0.1 - - [11/Dec/2017 10:02:28] \"POST /predict HTTP/1.1\" 500 -\n"
     ]
    },
    {
     "name": "stdout",
     "output_type": "stream",
     "text": [
      "http://vffranchiseconsulting.com/wp-content/uploads/2016/03/grimaldis-menu.jpg\n",
      "https://s3.envato.com/files/110157303/Salami%20Pizza%20Slice.jpg\n"
     ]
    },
    {
     "name": "stderr",
     "output_type": "stream",
     "text": [
      "127.0.0.1 - - [11/Dec/2017 10:03:35] \"POST /predict HTTP/1.1\" 200 -\n"
     ]
    },
    {
     "name": "stdout",
     "output_type": "stream",
     "text": [
      "https://www.google.com/search?biw=1436&bih=804&tbm=isch&sa=1&ei=MZ4uWvbdDIOXjwSGj6voCA&q=pizza+slice&oq=pizza+sl&gs_l=psy-ab.1.0.0l10.3771.7506.0.8909.12.8.2.2.2.0.131.734.6j2.8.0....0...1c.1.64.psy-ab..0.12.752...0i67k1j0i10k1.0.O_dzIyBDblM#imgrc=wmpPelPOLhfxyM:\n"
     ]
    },
    {
     "name": "stderr",
     "output_type": "stream",
     "text": [
      "[2017-12-11 10:03:46,162] ERROR in app: Exception on /predict [POST]\n",
      "Traceback (most recent call last):\n",
      "  File \"/Users/default/anaconda/lib/python3.6/site-packages/flask/app.py\", line 1982, in wsgi_app\n",
      "    response = self.full_dispatch_request()\n",
      "  File \"/Users/default/anaconda/lib/python3.6/site-packages/flask/app.py\", line 1614, in full_dispatch_request\n",
      "    rv = self.handle_user_exception(e)\n",
      "  File \"/Users/default/anaconda/lib/python3.6/site-packages/flask/app.py\", line 1517, in handle_user_exception\n",
      "    reraise(exc_type, exc_value, tb)\n",
      "  File \"/Users/default/anaconda/lib/python3.6/site-packages/flask/_compat.py\", line 33, in reraise\n",
      "    raise value\n",
      "  File \"/Users/default/anaconda/lib/python3.6/site-packages/flask/app.py\", line 1612, in full_dispatch_request\n",
      "    rv = self.dispatch_request()\n",
      "  File \"/Users/default/anaconda/lib/python3.6/site-packages/flask/app.py\", line 1598, in dispatch_request\n",
      "    return self.view_functions[rule.endpoint](**req.view_args)\n",
      "  File \"<ipython-input-4-16d41f42fa90>\", line 7, in imgpath_to_plot\n",
      "    urllib.request.urlretrieve(link, \"input.jpg\")\n",
      "  File \"/Users/default/anaconda/lib/python3.6/urllib/request.py\", line 248, in urlretrieve\n",
      "    with contextlib.closing(urlopen(url, data)) as fp:\n",
      "  File \"/Users/default/anaconda/lib/python3.6/urllib/request.py\", line 223, in urlopen\n",
      "    return opener.open(url, data, timeout)\n",
      "  File \"/Users/default/anaconda/lib/python3.6/urllib/request.py\", line 532, in open\n",
      "    response = meth(req, response)\n",
      "  File \"/Users/default/anaconda/lib/python3.6/urllib/request.py\", line 642, in http_response\n",
      "    'http', request, response, code, msg, hdrs)\n",
      "  File \"/Users/default/anaconda/lib/python3.6/urllib/request.py\", line 570, in error\n",
      "    return self._call_chain(*args)\n",
      "  File \"/Users/default/anaconda/lib/python3.6/urllib/request.py\", line 504, in _call_chain\n",
      "    result = func(*args)\n",
      "  File \"/Users/default/anaconda/lib/python3.6/urllib/request.py\", line 650, in http_error_default\n",
      "    raise HTTPError(req.full_url, code, msg, hdrs, fp)\n",
      "urllib.error.HTTPError: HTTP Error 403: Forbidden\n",
      "127.0.0.1 - - [11/Dec/2017 10:03:46] \"POST /predict HTTP/1.1\" 500 -\n",
      "[2017-12-11 10:03:53,796] ERROR in app: Exception on /predict [POST]\n",
      "Traceback (most recent call last):\n",
      "  File \"/Users/default/anaconda/lib/python3.6/site-packages/flask/app.py\", line 1982, in wsgi_app\n",
      "    response = self.full_dispatch_request()\n",
      "  File \"/Users/default/anaconda/lib/python3.6/site-packages/flask/app.py\", line 1614, in full_dispatch_request\n",
      "    rv = self.handle_user_exception(e)\n",
      "  File \"/Users/default/anaconda/lib/python3.6/site-packages/flask/app.py\", line 1517, in handle_user_exception\n",
      "    reraise(exc_type, exc_value, tb)\n",
      "  File \"/Users/default/anaconda/lib/python3.6/site-packages/flask/_compat.py\", line 33, in reraise\n",
      "    raise value\n",
      "  File \"/Users/default/anaconda/lib/python3.6/site-packages/flask/app.py\", line 1612, in full_dispatch_request\n",
      "    rv = self.dispatch_request()\n",
      "  File \"/Users/default/anaconda/lib/python3.6/site-packages/flask/app.py\", line 1598, in dispatch_request\n",
      "    return self.view_functions[rule.endpoint](**req.view_args)\n",
      "  File \"<ipython-input-4-16d41f42fa90>\", line 10, in imgpath_to_plot\n",
      "    orig = cv2.cvtColor(img, cv2.COLOR_BGR2RGB)\n",
      "cv2.error: /Users/travis/build/skvark/opencv-python/opencv/modules/imgproc/src/color.cpp:9716: error: (-215) scn == 3 || scn == 4 in function cvtColor\n",
      "\n",
      "127.0.0.1 - - [11/Dec/2017 10:03:53] \"POST /predict HTTP/1.1\" 500 -\n"
     ]
    },
    {
     "name": "stdout",
     "output_type": "stream",
     "text": [
      "http://wikiclipart.com/cheese-pizza-clipart_31421/\n"
     ]
    },
    {
     "name": "stderr",
     "output_type": "stream",
     "text": [
      "[2017-12-11 10:04:04,145] ERROR in app: Exception on /predict [POST]\n",
      "Traceback (most recent call last):\n",
      "  File \"/Users/default/anaconda/lib/python3.6/site-packages/flask/app.py\", line 1982, in wsgi_app\n",
      "    response = self.full_dispatch_request()\n",
      "  File \"/Users/default/anaconda/lib/python3.6/site-packages/flask/app.py\", line 1614, in full_dispatch_request\n",
      "    rv = self.handle_user_exception(e)\n",
      "  File \"/Users/default/anaconda/lib/python3.6/site-packages/flask/app.py\", line 1517, in handle_user_exception\n",
      "    reraise(exc_type, exc_value, tb)\n",
      "  File \"/Users/default/anaconda/lib/python3.6/site-packages/flask/_compat.py\", line 33, in reraise\n",
      "    raise value\n",
      "  File \"/Users/default/anaconda/lib/python3.6/site-packages/flask/app.py\", line 1612, in full_dispatch_request\n",
      "    rv = self.dispatch_request()\n",
      "  File \"/Users/default/anaconda/lib/python3.6/site-packages/flask/app.py\", line 1598, in dispatch_request\n",
      "    return self.view_functions[rule.endpoint](**req.view_args)\n",
      "  File \"<ipython-input-4-16d41f42fa90>\", line 7, in imgpath_to_plot\n",
      "    urllib.request.urlretrieve(link, \"input.jpg\")\n",
      "  File \"/Users/default/anaconda/lib/python3.6/urllib/request.py\", line 248, in urlretrieve\n",
      "    with contextlib.closing(urlopen(url, data)) as fp:\n",
      "  File \"/Users/default/anaconda/lib/python3.6/urllib/request.py\", line 223, in urlopen\n",
      "    return opener.open(url, data, timeout)\n",
      "  File \"/Users/default/anaconda/lib/python3.6/urllib/request.py\", line 532, in open\n",
      "    response = meth(req, response)\n",
      "  File \"/Users/default/anaconda/lib/python3.6/urllib/request.py\", line 642, in http_response\n",
      "    'http', request, response, code, msg, hdrs)\n",
      "  File \"/Users/default/anaconda/lib/python3.6/urllib/request.py\", line 570, in error\n",
      "    return self._call_chain(*args)\n",
      "  File \"/Users/default/anaconda/lib/python3.6/urllib/request.py\", line 504, in _call_chain\n",
      "    result = func(*args)\n",
      "  File \"/Users/default/anaconda/lib/python3.6/urllib/request.py\", line 650, in http_error_default\n",
      "    raise HTTPError(req.full_url, code, msg, hdrs, fp)\n",
      "urllib.error.HTTPError: HTTP Error 403: Forbidden\n",
      "127.0.0.1 - - [11/Dec/2017 10:04:04] \"POST /predict HTTP/1.1\" 500 -\n"
     ]
    },
    {
     "name": "stdout",
     "output_type": "stream",
     "text": [
      "http://slice.seriouseats.com/images/20110121-bronx-pizza-3.jpg\n"
     ]
    },
    {
     "name": "stderr",
     "output_type": "stream",
     "text": [
      "[2017-12-11 10:04:06,443] ERROR in app: Exception on /predict [POST]\n",
      "Traceback (most recent call last):\n",
      "  File \"/Users/default/anaconda/lib/python3.6/site-packages/flask/app.py\", line 1982, in wsgi_app\n",
      "    response = self.full_dispatch_request()\n",
      "  File \"/Users/default/anaconda/lib/python3.6/site-packages/flask/app.py\", line 1614, in full_dispatch_request\n",
      "    rv = self.handle_user_exception(e)\n",
      "  File \"/Users/default/anaconda/lib/python3.6/site-packages/flask/app.py\", line 1517, in handle_user_exception\n",
      "    reraise(exc_type, exc_value, tb)\n",
      "  File \"/Users/default/anaconda/lib/python3.6/site-packages/flask/_compat.py\", line 33, in reraise\n",
      "    raise value\n",
      "  File \"/Users/default/anaconda/lib/python3.6/site-packages/flask/app.py\", line 1612, in full_dispatch_request\n",
      "    rv = self.dispatch_request()\n",
      "  File \"/Users/default/anaconda/lib/python3.6/site-packages/flask/app.py\", line 1598, in dispatch_request\n",
      "    return self.view_functions[rule.endpoint](**req.view_args)\n",
      "  File \"<ipython-input-4-16d41f42fa90>\", line 7, in imgpath_to_plot\n",
      "    urllib.request.urlretrieve(link, \"input.jpg\")\n",
      "  File \"/Users/default/anaconda/lib/python3.6/urllib/request.py\", line 248, in urlretrieve\n",
      "    with contextlib.closing(urlopen(url, data)) as fp:\n",
      "  File \"/Users/default/anaconda/lib/python3.6/urllib/request.py\", line 223, in urlopen\n",
      "    return opener.open(url, data, timeout)\n",
      "  File \"/Users/default/anaconda/lib/python3.6/urllib/request.py\", line 532, in open\n",
      "    response = meth(req, response)\n",
      "  File \"/Users/default/anaconda/lib/python3.6/urllib/request.py\", line 642, in http_response\n",
      "    'http', request, response, code, msg, hdrs)\n",
      "  File \"/Users/default/anaconda/lib/python3.6/urllib/request.py\", line 570, in error\n",
      "    return self._call_chain(*args)\n",
      "  File \"/Users/default/anaconda/lib/python3.6/urllib/request.py\", line 504, in _call_chain\n",
      "    result = func(*args)\n",
      "  File \"/Users/default/anaconda/lib/python3.6/urllib/request.py\", line 650, in http_error_default\n",
      "    raise HTTPError(req.full_url, code, msg, hdrs, fp)\n",
      "urllib.error.HTTPError: HTTP Error 403: Forbidden\n",
      "127.0.0.1 - - [11/Dec/2017 10:04:06] \"POST /predict HTTP/1.1\" 500 -\n"
     ]
    },
    {
     "name": "stdout",
     "output_type": "stream",
     "text": [
      "http://slice.seriouseats.com/images/20110121-bronx-pizza-3.jpg\n",
      "http://innovationspto.org/wp-content/uploads/2015/11/onepepperonipizza.jpg\n"
     ]
    },
    {
     "name": "stderr",
     "output_type": "stream",
     "text": [
      "127.0.0.1 - - [11/Dec/2017 10:04:22] \"POST /predict HTTP/1.1\" 200 -\n"
     ]
    },
    {
     "name": "stdout",
     "output_type": "stream",
     "text": [
      "http://1.bp.blogspot.com/-LPZbFuqejOw/UosmJEz2eTI/AAAAAAAAFqk/K6Db9AuJgXk/s1600/img_19221.jpg\n"
     ]
    },
    {
     "name": "stderr",
     "output_type": "stream",
     "text": [
      "127.0.0.1 - - [11/Dec/2017 10:04:43] \"POST /predict HTTP/1.1\" 200 -\n"
     ]
    },
    {
     "name": "stdout",
     "output_type": "stream",
     "text": [
      "https://www.google.com/search?biw=718&bih=804&tbm=isch&sa=1&ei=e54uWsekOuTNjwSl3LGgCA&q=slice+of+italy+calzone&oq=slice+calzone&gs_l=psy-ab.1.0.0i7i30k1.401.1391.0.2731.6.5.0.0.0.0.86.410.5.5.0....0...1c.1.64.psy-ab..2.4.323...0j0i13k1.0.AM3GuBg0zN8#imgrc=x0_nNpgBd2XOHM:\n"
     ]
    },
    {
     "name": "stderr",
     "output_type": "stream",
     "text": [
      "[2017-12-11 10:04:52,210] ERROR in app: Exception on /predict [POST]\n",
      "Traceback (most recent call last):\n",
      "  File \"/Users/default/anaconda/lib/python3.6/site-packages/flask/app.py\", line 1982, in wsgi_app\n",
      "    response = self.full_dispatch_request()\n",
      "  File \"/Users/default/anaconda/lib/python3.6/site-packages/flask/app.py\", line 1614, in full_dispatch_request\n",
      "    rv = self.handle_user_exception(e)\n",
      "  File \"/Users/default/anaconda/lib/python3.6/site-packages/flask/app.py\", line 1517, in handle_user_exception\n",
      "    reraise(exc_type, exc_value, tb)\n",
      "  File \"/Users/default/anaconda/lib/python3.6/site-packages/flask/_compat.py\", line 33, in reraise\n",
      "    raise value\n",
      "  File \"/Users/default/anaconda/lib/python3.6/site-packages/flask/app.py\", line 1612, in full_dispatch_request\n",
      "    rv = self.dispatch_request()\n",
      "  File \"/Users/default/anaconda/lib/python3.6/site-packages/flask/app.py\", line 1598, in dispatch_request\n",
      "    return self.view_functions[rule.endpoint](**req.view_args)\n",
      "  File \"<ipython-input-4-16d41f42fa90>\", line 7, in imgpath_to_plot\n",
      "    urllib.request.urlretrieve(link, \"input.jpg\")\n",
      "  File \"/Users/default/anaconda/lib/python3.6/urllib/request.py\", line 248, in urlretrieve\n",
      "    with contextlib.closing(urlopen(url, data)) as fp:\n",
      "  File \"/Users/default/anaconda/lib/python3.6/urllib/request.py\", line 223, in urlopen\n",
      "    return opener.open(url, data, timeout)\n",
      "  File \"/Users/default/anaconda/lib/python3.6/urllib/request.py\", line 532, in open\n",
      "    response = meth(req, response)\n",
      "  File \"/Users/default/anaconda/lib/python3.6/urllib/request.py\", line 642, in http_response\n",
      "    'http', request, response, code, msg, hdrs)\n",
      "  File \"/Users/default/anaconda/lib/python3.6/urllib/request.py\", line 570, in error\n",
      "    return self._call_chain(*args)\n",
      "  File \"/Users/default/anaconda/lib/python3.6/urllib/request.py\", line 504, in _call_chain\n",
      "    result = func(*args)\n",
      "  File \"/Users/default/anaconda/lib/python3.6/urllib/request.py\", line 650, in http_error_default\n",
      "    raise HTTPError(req.full_url, code, msg, hdrs, fp)\n",
      "urllib.error.HTTPError: HTTP Error 403: Forbidden\n",
      "127.0.0.1 - - [11/Dec/2017 10:04:52] \"POST /predict HTTP/1.1\" 500 -\n"
     ]
    },
    {
     "name": "stdout",
     "output_type": "stream",
     "text": [
      "http://www.classico.com/-/media/heinzna/images/classico/recipes/i/t/italian-sausage-calzone.ashx?as=0&hash=6C60C423AC7291A8BF607790782DD10D03218690&.jpg\n"
     ]
    },
    {
     "name": "stderr",
     "output_type": "stream",
     "text": [
      "127.0.0.1 - - [11/Dec/2017 10:04:59] \"POST /predict HTTP/1.1\" 200 -\n"
     ]
    },
    {
     "name": "stdout",
     "output_type": "stream",
     "text": [
      "https://media-cdn.tripadvisor.com/media/photo-s/04/64/61/33/oven-toasted-ham-sandwich.jpg\n"
     ]
    },
    {
     "name": "stderr",
     "output_type": "stream",
     "text": [
      "127.0.0.1 - - [11/Dec/2017 10:06:29] \"POST /predict HTTP/1.1\" 200 -\n"
     ]
    },
    {
     "name": "stdout",
     "output_type": "stream",
     "text": [
      "https://media-cdn.tripadvisor.com/media/photo-s/04/5b/6f/dd/slice-of-italy.jpg\n"
     ]
    },
    {
     "name": "stderr",
     "output_type": "stream",
     "text": [
      "127.0.0.1 - - [11/Dec/2017 10:06:43] \"POST /predict HTTP/1.1\" 200 -\n"
     ]
    },
    {
     "name": "stdout",
     "output_type": "stream",
     "text": [
      "https://www.biography.com/.image/t_share/MTQ3NjM5ODIyNjU0MTIxMDM0/snoop_dogg_photo_by_estevan_oriol_archive_photos_getty_455616412.jpg\n"
     ]
    },
    {
     "name": "stderr",
     "output_type": "stream",
     "text": [
      "127.0.0.1 - - [11/Dec/2017 10:07:02] \"POST /predict HTTP/1.1\" 200 -\n"
     ]
    },
    {
     "name": "stdout",
     "output_type": "stream",
     "text": [
      "https://pbs.twimg.com/media/C4jYf0VWIAAEXHa.jpg\n"
     ]
    },
    {
     "name": "stderr",
     "output_type": "stream",
     "text": [
      "127.0.0.1 - - [11/Dec/2017 10:07:18] \"POST /predict HTTP/1.1\" 200 -\n"
     ]
    },
    {
     "name": "stdout",
     "output_type": "stream",
     "text": [
      "https://pbs.twimg.com/profile_images/768354402524471296/71dy0CW4.jpg\n"
     ]
    },
    {
     "name": "stderr",
     "output_type": "stream",
     "text": [
      "127.0.0.1 - - [11/Dec/2017 10:07:35] \"POST /predict HTTP/1.1\" 200 -\n"
     ]
    },
    {
     "name": "stdout",
     "output_type": "stream",
     "text": [
      "http://i.imgur.com/aQB1wOu.png?1\n"
     ]
    },
    {
     "name": "stderr",
     "output_type": "stream",
     "text": [
      "127.0.0.1 - - [11/Dec/2017 10:08:15] \"POST /predict HTTP/1.1\" 200 -\n"
     ]
    },
    {
     "name": "stdout",
     "output_type": "stream",
     "text": [
      "http://ww2.hdnux.com/photos/57/46/41/12478545/3/1024x1024.jpg\n"
     ]
    },
    {
     "name": "stderr",
     "output_type": "stream",
     "text": [
      "127.0.0.1 - - [11/Dec/2017 10:08:49] \"POST /predict HTTP/1.1\" 200 -\n"
     ]
    },
    {
     "name": "stdout",
     "output_type": "stream",
     "text": [
      "http://ww4.hdnux.com/photos/57/01/17/12325867/13/rawImage.jpg\n"
     ]
    },
    {
     "name": "stderr",
     "output_type": "stream",
     "text": [
      "127.0.0.1 - - [11/Dec/2017 10:09:01] \"POST /predict HTTP/1.1\" 200 -\n"
     ]
    },
    {
     "name": "stdout",
     "output_type": "stream",
     "text": [
      "http://ww2.hdnux.com/photos/56/53/04/12235021/7/rawImage.jpg\n"
     ]
    },
    {
     "name": "stderr",
     "output_type": "stream",
     "text": [
      "127.0.0.1 - - [11/Dec/2017 10:09:18] \"POST /predict HTTP/1.1\" 200 -\n"
     ]
    },
    {
     "name": "stdout",
     "output_type": "stream",
     "text": [
      "http://ww1.hdnux.com/photos/56/76/32/12314272/9/1024x1024.jpg\n"
     ]
    },
    {
     "name": "stderr",
     "output_type": "stream",
     "text": [
      "127.0.0.1 - - [11/Dec/2017 10:09:33] \"POST /predict HTTP/1.1\" 200 -\n"
     ]
    },
    {
     "name": "stdout",
     "output_type": "stream",
     "text": [
      "https://connect.secure.media.ipcdigital.co.uk/111/000014878/3ec4/Optical-Illusion-.jpg\n"
     ]
    },
    {
     "name": "stderr",
     "output_type": "stream",
     "text": [
      "127.0.0.1 - - [11/Dec/2017 10:09:52] \"POST /predict HTTP/1.1\" 200 -\n",
      "[2017-12-11 10:10:15,107] ERROR in app: Exception on /predict [POST]\n",
      "Traceback (most recent call last):\n",
      "  File \"/Users/default/anaconda/lib/python3.6/site-packages/flask/app.py\", line 1982, in wsgi_app\n",
      "    response = self.full_dispatch_request()\n",
      "  File \"/Users/default/anaconda/lib/python3.6/site-packages/flask/app.py\", line 1614, in full_dispatch_request\n",
      "    rv = self.handle_user_exception(e)\n",
      "  File \"/Users/default/anaconda/lib/python3.6/site-packages/flask/app.py\", line 1517, in handle_user_exception\n",
      "    reraise(exc_type, exc_value, tb)\n",
      "  File \"/Users/default/anaconda/lib/python3.6/site-packages/flask/_compat.py\", line 33, in reraise\n",
      "    raise value\n",
      "  File \"/Users/default/anaconda/lib/python3.6/site-packages/flask/app.py\", line 1612, in full_dispatch_request\n",
      "    rv = self.dispatch_request()\n",
      "  File \"/Users/default/anaconda/lib/python3.6/site-packages/flask/app.py\", line 1598, in dispatch_request\n",
      "    return self.view_functions[rule.endpoint](**req.view_args)\n",
      "  File \"<ipython-input-4-16d41f42fa90>\", line 10, in imgpath_to_plot\n",
      "    orig = cv2.cvtColor(img, cv2.COLOR_BGR2RGB)\n",
      "cv2.error: /Users/travis/build/skvark/opencv-python/opencv/modules/imgproc/src/color.cpp:9716: error: (-215) scn == 3 || scn == 4 in function cvtColor\n",
      "\n",
      "127.0.0.1 - - [11/Dec/2017 10:10:15] \"POST /predict HTTP/1.1\" 500 -\n"
     ]
    },
    {
     "name": "stdout",
     "output_type": "stream",
     "text": [
      "https://www.google.com/url?sa=i&rct=j&q=&esrc=s&source=images&cd=&ved=0ahUKEwi5oOnvnoLYAhUL8YMKHb7oDPEQjBwIBA&url=https%3A%2F%2Flh3.ggpht.com%2FvX9FP4phR9f8i1J85S5Ln-mH9-mp9Z95lHEzWzSn0vy7CSH8XIKTZzlOFGBqNZdvtbyE%3Dw300&psig=AOvVaw1JsiGcX3wmh22ntWSh-1lo&ust=1513091404713978\n",
      "https://lh3.ggpht.com/vX9FP4phR9f8i1J85S5Ln-mH9-mp9Z95lHEzWzSn0vy7CSH8XIKTZzlOFGBqNZdvtbyE=w300\n"
     ]
    },
    {
     "name": "stderr",
     "output_type": "stream",
     "text": [
      "127.0.0.1 - - [11/Dec/2017 10:10:20] \"POST /predict HTTP/1.1\" 200 -\n"
     ]
    },
    {
     "name": "stdout",
     "output_type": "stream",
     "text": [
      "https://target.scene7.com/is/image/Target/50423982_Alt05?wid=520&hei=520&fmt=pjpeg\n"
     ]
    },
    {
     "name": "stderr",
     "output_type": "stream",
     "text": [
      "127.0.0.1 - - [11/Dec/2017 10:10:39] \"POST /predict HTTP/1.1\" 200 -\n"
     ]
    },
    {
     "name": "stdout",
     "output_type": "stream",
     "text": [
      "https://upload.wikimedia.org/wikipedia/commons/thumb/f/fd/000080_Navy_Blue_Square.svg/600px-000080_Navy_Blue_Square.svg.png\n"
     ]
    },
    {
     "name": "stderr",
     "output_type": "stream",
     "text": [
      "127.0.0.1 - - [11/Dec/2017 10:10:58] \"POST /predict HTTP/1.1\" 200 -\n"
     ]
    },
    {
     "name": "stdout",
     "output_type": "stream",
     "text": [
      "https://upload.wikimedia.org/wikipedia/commons/5/54/Calzone_fritto.jpg\n"
     ]
    },
    {
     "name": "stderr",
     "output_type": "stream",
     "text": [
      "127.0.0.1 - - [11/Dec/2017 10:11:26] \"POST /predict HTTP/1.1\" 200 -\n"
     ]
    },
    {
     "name": "stdout",
     "output_type": "stream",
     "text": [
      "https://www141.lunapic.com/do-not-link-here-use-hosting-instead/151300578531205?6860457440\n"
     ]
    },
    {
     "name": "stderr",
     "output_type": "stream",
     "text": [
      "127.0.0.1 - - [11/Dec/2017 10:12:08] \"POST /predict HTTP/1.1\" 200 -\n"
     ]
    }
   ],
   "source": [
    "if __name__ == '__main__':\n",
    "    port = int(os.environ.get('PORT',5000))\n",
    "    app.run(host='0.0.0.0',port=port)"
   ]
  },
  {
   "cell_type": "code",
   "execution_count": null,
   "metadata": {},
   "outputs": [],
   "source": []
  },
  {
   "cell_type": "code",
   "execution_count": null,
   "metadata": {
    "collapsed": true
   },
   "outputs": [],
   "source": []
  }
 ],
 "metadata": {
  "kernelspec": {
   "display_name": "Python 3",
   "language": "python",
   "name": "python3"
  },
  "language_info": {
   "codemirror_mode": {
    "name": "ipython",
    "version": 3
   },
   "file_extension": ".py",
   "mimetype": "text/x-python",
   "name": "python",
   "nbconvert_exporter": "python",
   "pygments_lexer": "ipython3",
   "version": "3.6.1"
  }
 },
 "nbformat": 4,
 "nbformat_minor": 2
}
